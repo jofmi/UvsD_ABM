{
 "cells": [
  {
   "cell_type": "markdown",
   "metadata": {},
   "source": [
    "## Regulation at the source? Comparing upstream and downstream climate policies\n",
    "\n",
    "*An agent-based model to evaluate and compare the performance of upstream and downstream climate policies.*\n",
    "\n",
    "Joël Foramitti, Ivan Savin, Jeroen C.J.M. van den Bergh"
   ]
  },
  {
   "cell_type": "markdown",
   "metadata": {},
   "source": [
    "### 1. Initialization"
   ]
  },
  {
   "cell_type": "code",
   "execution_count": null,
   "metadata": {},
   "outputs": [],
   "source": [
    "## Libraries ##\n",
    "\n",
    "import numpy as np\n",
    "import pandas as pd\n",
    "import csv\n",
    "\n",
    "import seaborn as sns\n",
    "import matplotlib.pyplot as plt\n",
    "from matplotlib.lines import Line2D\n",
    "\n",
    "from SALib.sample import saltelli\n",
    "from SALib.analyze import sobol"
   ]
  },
  {
   "cell_type": "code",
   "execution_count": null,
   "metadata": {},
   "outputs": [],
   "source": [
    "## Import Model ##\n",
    "\n",
    "from UvsD_ABM_Parameters import *\n",
    "from UvsD_ABM_Agents import *\n",
    "from UvsD_ABM_Model import *"
   ]
  },
  {
   "cell_type": "code",
   "execution_count": null,
   "metadata": {},
   "outputs": [],
   "source": [
    "## Settings ##\n",
    "open_economy = True \n",
    "do_multi_run = True\n",
    "analyze_multi_run = False # Show evaluation criteria plot\n",
    "analyze_sensitivity = False # Show sensitivity analysis plot\n",
    "sensitivity_strength = 1000 # Number of runs: num_vars * 2 + 2\n",
    "plot_sensitivity = True \n",
    "fs = 13 # Font size for plots\n",
    "\n",
    "# Seperate simulation into smaller batches\n",
    "batch_seperation = True\n",
    "batch_total = 10\n",
    "batch_current = 0 # start counting from 0!"
   ]
  },
  {
   "cell_type": "code",
   "execution_count": null,
   "metadata": {},
   "outputs": [],
   "source": [
    "# Perform Multiple Runs\n",
    "\n",
    "def multi_run(scenarios,param_range,open_economy=False):\n",
    "    \n",
    "    # Prepare sample\n",
    "    param_values_multi = saltelli.sample(param_range, sensitivity_strength) \n",
    "    \n",
    "    if batch_seperation:\n",
    "        batch_len = int ( len(param_values_multi) / batch_total )\n",
    "        param_values_multi = param_values_multi[batch_len*batch_current:batch_len*(batch_current+1)]\n",
    "    \n",
    "    measures = []\n",
    "    n_err = 0\n",
    "    n_err_s = 0\n",
    "    err = False\n",
    "    \n",
    "    for i,pv in enumerate(param_values_multi): \n",
    "        \n",
    "        if i == 0:\n",
    "            print(\"Single run-time:\")\n",
    "            results = %time run_model(scenarios,param_values=pv,open_economy=open_economy)        \n",
    "            print(\"\\nScheduled runs: \",len(param_values_multi))\n",
    "        else: \n",
    "            results = run_model(scenarios,param_values=pv,open_economy=open_economy)\n",
    "            \n",
    "        # Check for errors and try to repeat\n",
    "        err = False\n",
    "        for sc in results:\n",
    "            if sc[1].error == True: \n",
    "                err = True\n",
    "                      \n",
    "        if err == True: \n",
    "            n_err +=1  \n",
    "            c=0\n",
    "            while True:\n",
    "                results = run_model(scenarios,param_values=pv,open_economy=open_economy)\n",
    "                \n",
    "                err = False\n",
    "                for sc in results:\n",
    "                    if sc[1].error == True: \n",
    "                        err = True\n",
    "\n",
    "                if err == False:\n",
    "                    n_err_s +=1\n",
    "                    break\n",
    "                else: \n",
    "                    c+=1\n",
    "                    if c>10: break \n",
    "                \n",
    "        measures.extend( evaluation_measures(results,i) )\n",
    "        \n",
    "        print('\\rDone: ' + str(i+1) + ' (' + str(n_err) + ' Errors, ' + str(n_err_s) + ' resolved)', end='')\n",
    "      \n",
    "    print(\"\\n\\nTotal run-time:\")\n",
    "    \n",
    "    return measures"
   ]
  },
  {
   "cell_type": "code",
   "execution_count": null,
   "metadata": {},
   "outputs": [],
   "source": [
    "# 111 Main Simulation over Parameter Range\n",
    "if do_multi_run:\n",
    "    measures = %time multi_run(scenarios,param_range,open_economy)"
   ]
  },
  {
   "cell_type": "code",
   "execution_count": null,
   "metadata": {},
   "outputs": [],
   "source": [
    "measure_names = ['Run','Scenario',\n",
    "                 'Emissions',\n",
    "                 'Technology adoption','Compositional change','Production decline','Abatement, relative to target',\n",
    "                 'Sales price',\n",
    "                 'Upstream production costs','Downstream production costs','Upstream profits','Downstream profits','Policy revenue',\n",
    "                 'Consumer Impact',\n",
    "                 'Upstream Market Concentration','Downstream Market Concentration','Sales',\n",
    "                 'Emission Costs','Emission & Fuel Costs',\n",
    "                 'Local Emissions',\n",
    "                 'Local Technology adoption','Local Compositional change','Local Production decline','Local Abatement, relative to target',\n",
    "                 'Local Sales price',\n",
    "                 'Local Upstream production costs','Local Downstream production costs','Local Upstream profits','Local Downstream profits','Local Policy revenue',\n",
    "                 'Local Consumer Impact',\n",
    "                 'Local Upstream Market Concentration','Local Downstream Market Concentration','Local Sales'\n",
    "                ]\n",
    "\n",
    "measure_names2 = ['Run','Scenario',\n",
    "                 'Emissions',\n",
    "                 'Technology \\n adoption','Compositional \\n change','Production \\n decline','Abatement, relative to target',\n",
    "                 'Sales \\n price',\n",
    "                 'Upstream \\n production \\n costs','Downstream \\n production \\n costs','Upstream \\n profits','Downstream \\n profits','Policy \\n revenue',\n",
    "                'Consumer \\n Impact',\n",
    "                 'Upstream \\n Market \\n Concentration','Downstream \\n Market \\n Concentration','Sales',\n",
    "                  'Emission \\n Costs','Emission & \\n Fuel Costs',\n",
    "                  'Local Emissions',\n",
    "                 'Local Technology \\n adoption','Local Compositional \\n change','Local Production \\n decline','Local Abatement, relative to target',\n",
    "                 'Local Sales \\n price',\n",
    "                 'Local Upstream \\n production \\n costs','Local Downstream \\n production \\n costs','Local Upstream \\n profits','Local Downstream \\n profits','Local Policy \\n revenue',\n",
    "                 'Local \\n Consumer \\n Impact',\n",
    "                 'Local Upstream \\n Market \\n Concentration','Local Downstream \\n Market \\n Concentration','Local Sales'\n",
    "                 \n",
    "                ]\n",
    "if do_multi_run:\n",
    "    \n",
    "    # Create Pandas Dataframe\n",
    "    df = pd.DataFrame( measures , columns = measure_names)\n",
    "    \n",
    "    if batch_seperation: \n",
    "        if open_economy:\n",
    "            df.to_csv('Outputs/results_UVSP_open_batch_'+str(batch_current)+'.csv',index=False)\n",
    "        else:\n",
    "            df.to_csv('Outputs/results_UVSP_batch_'+str(batch_current)+'.csv',index=False)\n",
    "        print('Saved batch', batch_current)\n",
    "    else: \n",
    "        if open_economy:\n",
    "            df.to_csv(r'Outputs/results_UVSP_open.csv',index=False)\n",
    "        else:\n",
    "            df.to_csv(r'Outputs/results_UVSP.csv',index=False)\n",
    "        print('Saved normally')"
   ]
  }
 ],
 "metadata": {
  "kernelspec": {
   "display_name": "Python 3",
   "language": "python",
   "name": "python3"
  },
  "language_info": {
   "codemirror_mode": {
    "name": "ipython",
    "version": 3
   },
   "file_extension": ".py",
   "mimetype": "text/x-python",
   "name": "python",
   "nbconvert_exporter": "python",
   "pygments_lexer": "ipython3",
   "version": "3.8.5"
  }
 },
 "nbformat": 4,
 "nbformat_minor": 4
}
